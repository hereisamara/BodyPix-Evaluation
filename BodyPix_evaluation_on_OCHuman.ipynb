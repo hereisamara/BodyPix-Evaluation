{
  "nbformat": 4,
  "nbformat_minor": 0,
  "metadata": {
    "colab": {
      "provenance": [],
      "mount_file_id": "1haopDELpFLeggZzkQOVYvS5cfDmpI5za",
      "authorship_tag": "ABX9TyOf323v/dGJwx1y25++XDcX",
      "include_colab_link": true
    },
    "kernelspec": {
      "name": "python3",
      "display_name": "Python 3"
    },
    "language_info": {
      "name": "python"
    }
  },
  "cells": [
    {
      "cell_type": "markdown",
      "metadata": {
        "id": "view-in-github",
        "colab_type": "text"
      },
      "source": [
        "<a href=\"https://colab.research.google.com/github/hereisamara/BodyPix-Evaluation/blob/main/BodyPix_evaluation_on_OCHuman.ipynb\" target=\"_parent\"><img src=\"https://colab.research.google.com/assets/colab-badge.svg\" alt=\"Open In Colab\"/></a>"
      ]
    },
    {
      "cell_type": "markdown",
      "source": [
        "### Git clone OCHumanApi and install"
      ],
      "metadata": {
        "id": "XRNG8B_kqgpe"
      }
    },
    {
      "cell_type": "code",
      "source": [
        "!git clone https://github.com/liruilong940607/OCHumanApi --quiet\n",
        "%cd OCHumanApi\n",
        "!pip install .  --quiet"
      ],
      "metadata": {
        "colab": {
          "base_uri": "https://localhost:8080/"
        },
        "id": "i8R2JgmEQTiH",
        "outputId": "a5127d08-4c05-4794-b97b-1fbcf9d6c8de"
      },
      "execution_count": 2,
      "outputs": [
        {
          "output_type": "stream",
          "name": "stdout",
          "text": [
            "/content/OCHumanApi\n",
            "Processing /content/OCHumanApi\n",
            "  Preparing metadata (setup.py) ... \u001b[?25l\u001b[?25hdone\n",
            "Building wheels for collected packages: ochumanApi\n",
            "  Building wheel for ochumanApi (setup.py) ... \u001b[?25l\u001b[?25hdone\n",
            "  Created wheel for ochumanApi: filename=ochumanApi-0.0-cp310-cp310-linux_x86_64.whl size=369020 sha256=b091e2b4692946940ed76bb40accd3a75667c64ca5b4f8e3b8c84f0e31b747f5\n",
            "  Stored in directory: /tmp/pip-ephem-wheel-cache-399q5iil/wheels/10/24/56/2a37d7b3e55767b0a4e89022ec4083dbdea33aa3b5b4ecf4b7\n",
            "Successfully built ochumanApi\n",
            "Installing collected packages: ochumanApi\n",
            "Successfully installed ochumanApi-0.0\n"
          ]
        }
      ]
    },
    {
      "cell_type": "markdown",
      "source": [
        "# Download OCHumanData and Unzip\n",
        "\n",
        "first download the data from OCHumanAPI and save to a folder"
      ],
      "metadata": {
        "id": "Npl6PHa_qnpH"
      }
    },
    {
      "cell_type": "code",
      "source": [
        "!unzip /content/drive/MyDrive/OCHuman.zip -d /content/drive/MyDrive/OCHumanData"
      ],
      "metadata": {
        "colab": {
          "base_uri": "https://localhost:8080/"
        },
        "id": "8UftNEfVTnTQ",
        "outputId": "61fa7c3d-58c2-40c1-d82f-8597815a8bba"
      },
      "execution_count": 4,
      "outputs": [
        {
          "output_type": "stream",
          "name": "stdout",
          "text": [
            "Archive:  /content/drive/MyDrive/OCHuman-20240424T083605Z-001.zip\n",
            "replace /content/drive/MyDrive/OCHumanData/OCHuman/ochuman_coco_format_test_range_0.00_1.00.json? [y]es, [n]o, [A]ll, [N]one, [r]ename: "
          ]
        }
      ]
    },
    {
      "cell_type": "code",
      "source": [
        "!unzip /content/drive/MyDrive/OCHumanData/OCHuman/images.zip -d /content/drive/MyDrive/OCHumanData/OCHuman/images/"
      ],
      "metadata": {
        "id": "MaPMaMrnUH_V"
      },
      "execution_count": null,
      "outputs": []
    },
    {
      "cell_type": "markdown",
      "source": [
        "# Install BodyPix python"
      ],
      "metadata": {
        "id": "GGlsL8ugquSK"
      }
    },
    {
      "cell_type": "code",
      "source": [
        "!pip install tf-bodypix --quiet\n",
        "!pip install tfjs-graph-converter --quiet"
      ],
      "metadata": {
        "colab": {
          "base_uri": "https://localhost:8080/"
        },
        "id": "6QdnC9ovZal6",
        "outputId": "ed403066-9188-4a99-d703-7b3565f31298"
      },
      "execution_count": 1,
      "outputs": [
        {
          "output_type": "stream",
          "name": "stdout",
          "text": [
            "\u001b[2K     \u001b[90m━━━━━━━━━━━━━━━━━━━━━━━━━━━━━━━━━━━━━━━━\u001b[0m \u001b[32m41.9/41.9 kB\u001b[0m \u001b[31m1.3 MB/s\u001b[0m eta \u001b[36m0:00:00\u001b[0m\n",
            "\u001b[2K     \u001b[90m━━━━━━━━━━━━━━━━━━━━━━━━━━━━━━━━━━━━━━━━\u001b[0m \u001b[32m89.1/89.1 kB\u001b[0m \u001b[31m3.1 MB/s\u001b[0m eta \u001b[36m0:00:00\u001b[0m\n",
            "\u001b[2K     \u001b[90m━━━━━━━━━━━━━━━━━━━━━━━━━━━━━━━━━━━━━━━━\u001b[0m \u001b[32m15.5/15.5 MB\u001b[0m \u001b[31m29.5 MB/s\u001b[0m eta \u001b[36m0:00:00\u001b[0m\n",
            "\u001b[2K     \u001b[90m━━━━━━━━━━━━━━━━━━━━━━━━━━━━━━━━━━━━━━━━\u001b[0m \u001b[32m53.0/53.0 kB\u001b[0m \u001b[31m5.3 MB/s\u001b[0m eta \u001b[36m0:00:00\u001b[0m\n",
            "\u001b[2K     \u001b[90m━━━━━━━━━━━━━━━━━━━━━━━━━━━━━━━━━━━━━━━━\u001b[0m \u001b[32m589.8/589.8 MB\u001b[0m \u001b[31m1.5 MB/s\u001b[0m eta \u001b[36m0:00:00\u001b[0m\n",
            "\u001b[2K     \u001b[90m━━━━━━━━━━━━━━━━━━━━━━━━━━━━━━━━━━━━━━━━\u001b[0m \u001b[32m1.7/1.7 MB\u001b[0m \u001b[31m61.9 MB/s\u001b[0m eta \u001b[36m0:00:00\u001b[0m\n",
            "\u001b[2K     \u001b[90m━━━━━━━━━━━━━━━━━━━━━━━━━━━━━━━━━━━━━━━━\u001b[0m \u001b[32m5.3/5.3 MB\u001b[0m \u001b[31m76.1 MB/s\u001b[0m eta \u001b[36m0:00:00\u001b[0m\n",
            "\u001b[2K     \u001b[90m━━━━━━━━━━━━━━━━━━━━━━━━━━━━━━━━━━━━━━━━\u001b[0m \u001b[32m2.2/2.2 MB\u001b[0m \u001b[31m58.3 MB/s\u001b[0m eta \u001b[36m0:00:00\u001b[0m\n",
            "\u001b[2K     \u001b[90m━━━━━━━━━━━━━━━━━━━━━━━━━━━━━━━━━━━━━━━━\u001b[0m \u001b[32m5.5/5.5 MB\u001b[0m \u001b[31m82.8 MB/s\u001b[0m eta \u001b[36m0:00:00\u001b[0m\n",
            "\u001b[2K     \u001b[90m━━━━━━━━━━━━━━━━━━━━━━━━━━━━━━━━━━━━━━━━\u001b[0m \u001b[32m1.1/1.1 MB\u001b[0m \u001b[31m55.9 MB/s\u001b[0m eta \u001b[36m0:00:00\u001b[0m\n",
            "\u001b[2K     \u001b[90m━━━━━━━━━━━━━━━━━━━━━━━━━━━━━━━━━━━━━━━━\u001b[0m \u001b[32m311.2/311.2 kB\u001b[0m \u001b[31m21.3 MB/s\u001b[0m eta \u001b[36m0:00:00\u001b[0m\n",
            "\u001b[?25h"
          ]
        }
      ]
    },
    {
      "cell_type": "markdown",
      "source": [
        "# Import Library"
      ],
      "metadata": {
        "id": "v0QIUhcR3BNH"
      }
    },
    {
      "cell_type": "code",
      "source": [
        "import glob\n",
        "import numpy as np\n",
        "import cv2, os\n",
        "from pathlib import Path\n",
        "import matplotlib\n",
        "import matplotlib.pyplot as plt\n",
        "%matplotlib inline\n",
        "plt.rcParams['figure.figsize'] = (8, 8)"
      ],
      "metadata": {
        "id": "9tjmGlfm24BV"
      },
      "execution_count": 7,
      "outputs": []
    },
    {
      "cell_type": "markdown",
      "source": [
        "# Visulalize OCHuman Data"
      ],
      "metadata": {
        "id": "N-rMnpmSq0-n"
      }
    },
    {
      "cell_type": "code",
      "execution_count": 9,
      "metadata": {
        "colab": {
          "base_uri": "https://localhost:8080/"
        },
        "id": "GiQiheaLP-V2",
        "outputId": "9ff2ab09-a40a-4edf-dfb4-25c34712ec35"
      },
      "outputs": [
        {
          "output_type": "stream",
          "name": "stdout",
          "text": [
            "Total images: 4731\n"
          ]
        }
      ],
      "source": [
        "## Initialize\n",
        "from ochumanApi.ochuman import OCHuman\n",
        "## Load annotations & Visualize\n",
        "import ochumanApi.vis as vistool\n",
        "from ochumanApi.ochuman import Poly2Mask\n",
        "\n",
        "base_path = \"/content/drive/MyDrive/OCHumanData/OCHuman/\"\n",
        "\n",
        "ochuman = OCHuman(AnnoFile=os.path.join(base_path,'ochuman.json'), Filter='kpt&segm')\n",
        "image_ids = ochuman.getImgIds()\n",
        "print ('Total images: %d'%len(image_ids))\n",
        "\n",
        "ImgDir = os.path.join(base_path,'images/images/')\n",
        "data = ochuman.loadImgs(imgIds=[image_ids[2]])[0]\n",
        "\n",
        "img = cv2.imread(os.path.join(ImgDir, data['file_name']))\n",
        "height, width = data['height'], data['width']"
      ]
    },
    {
      "cell_type": "markdown",
      "source": [
        "# True Mask"
      ],
      "metadata": {
        "id": "MjUfKV0XqYwd"
      }
    },
    {
      "cell_type": "code",
      "source": [
        "colors = [[255, 0, 0],\n",
        "         [255, 255, 0],\n",
        "         [0, 255, 0],\n",
        "         [0, 255, 255],\n",
        "         [0, 0, 255],\n",
        "         [255, 0, 255]]\n",
        "\n",
        "final_mask = np.zeros((height, width), dtype=np.uint8)  # Initialize a mask with zeros\n",
        "\n",
        "# Process each annotation in the image\n",
        "for anno in data['annotations']:\n",
        "    segm = anno.get('segms')\n",
        "    if segm:\n",
        "        mask = Poly2Mask(segm)  # Convert segmentation polygon to mask\n",
        "        final_mask = np.bitwise_or(final_mask, mask)  # Combine the mask with the final mask\n",
        "\n",
        "plt.imshow(final_mask)\n",
        "# plt.imshow(img[:,:,::-1])\n",
        "plt.axis('off')\n",
        "plt.show()"
      ],
      "metadata": {
        "colab": {
          "base_uri": "https://localhost:8080/",
          "height": 653
        },
        "id": "BIWFv4M8qV5C",
        "outputId": "7380cad1-a609-49fb-f609-6a04baee489a"
      },
      "execution_count": 22,
      "outputs": [
        {
          "output_type": "display_data",
          "data": {
            "text/plain": [
              "<Figure size 800x800 with 1 Axes>"
            ],
            "image/png": "[encoded data removed]"
          },
          "metadata": {}
        }
      ]
    },
    {
      "cell_type": "markdown",
      "source": [
        "# BodyPIX"
      ],
      "metadata": {
        "id": "5Lbi8SgOocSo"
      }
    },
    {
      "cell_type": "markdown",
      "source": [
        "### load model"
      ],
      "metadata": {
        "id": "NWnAY1gCDksh"
      }
    },
    {
      "cell_type": "code",
      "source": [
        "import tensorflow as tf\n",
        "from tf_bodypix.api import download_model, load_model, BodyPixModelPaths\n",
        "\n",
        "# load model (once)\n",
        "bodypix_model = load_model(download_model(\n",
        "    # BodyPixModelPaths.MOBILENET_FLOAT_50_STRIDE_16\n",
        "    BodyPixModelPaths.RESNET50_FLOAT_STRIDE_16\n",
        "))"
      ],
      "metadata": {
        "id": "KHrX_AytsgoN"
      },
      "execution_count": 11,
      "outputs": []
    },
    {
      "cell_type": "markdown",
      "source": [
        "### predict"
      ],
      "metadata": {
        "id": "jCrDYoQvDg8_"
      }
    },
    {
      "cell_type": "code",
      "source": [
        "result = bodypix_model.predict_single(img)\n",
        "binary_mask = result.get_mask(threshold=0.75)\n",
        "# colored_mask = result.get_colored_part_mask(binary_mask)"
      ],
      "metadata": {
        "id": "NlFfKOkdZlDq"
      },
      "execution_count": 23,
      "outputs": []
    },
    {
      "cell_type": "code",
      "source": [
        "plt.imshow(binary_mask)"
      ],
      "metadata": {
        "colab": {
          "base_uri": "https://localhost:8080/",
          "height": 699
        },
        "id": "2JCWkdkkso0L",
        "outputId": "64b51989-32fd-45e9-a92b-3a120e1d6e4a"
      },
      "execution_count": 24,
      "outputs": [
        {
          "output_type": "execute_result",
          "data": {
            "text/plain": [
              "<matplotlib.image.AxesImage at 0x7de5f02fab30>"
            ]
          },
          "metadata": {},
          "execution_count": 24
        },
        {
          "output_type": "display_data",
          "data": {
            "text/plain": [
              "<Figure size 800x800 with 1 Axes>"
            ],
            "image/png": "[encoded data removed]"
          },
          "metadata": {}
        }
      ]
    },
    {
      "cell_type": "markdown",
      "source": [
        "# Evaluating on one image"
      ],
      "metadata": {
        "id": "UXkznt0MCB3W"
      }
    },
    {
      "cell_type": "code",
      "source": [
        "import numpy as np\n",
        "\n",
        "def calculate_metrics(true_mask, pred_mask):\n",
        "    # Ensure both masks have the same 2D shape\n",
        "    true_mask = np.squeeze(true_mask)\n",
        "    pred_mask = np.squeeze(pred_mask)\n",
        "    # True positives, false positives, true negatives, false negatives\n",
        "    TP = np.sum((pred_mask == 1) & (true_mask == 1))\n",
        "    FP = np.sum((pred_mask == 1) & (true_mask == 0))\n",
        "    TN = np.sum((pred_mask == 0) & (true_mask == 0))\n",
        "    FN = np.sum((pred_mask == 0) & (true_mask == 1))\n",
        "\n",
        "    # Calculate metrics\n",
        "    iou = TP / (TP + FP + FN)\n",
        "    dice = (2 * TP) / (2*TP + FP + FN)\n",
        "    precision = TP / (TP + FP)\n",
        "    recall = TP / (TP + FN)\n",
        "    accuracy = (TP + TN) / (TP + FP + TN + FN)\n",
        "\n",
        "    return iou, dice, precision, recall, accuracy\n",
        "\n",
        "# Example usage\n",
        "true_mask = masks[0]\n",
        "\n",
        "pred_mask = binary_mask\n",
        "\n",
        "metrics = calculate_metrics(true_mask, pred_mask)\n",
        "print(\"IoU:\", metrics[0])\n",
        "print(\"Dice:\", metrics[1])\n",
        "print(\"Precision:\", metrics[2])\n",
        "print(\"Recall:\", metrics[3])\n",
        "print(\"Accuracy:\", metrics[4])\n"
      ],
      "metadata": {
        "colab": {
          "base_uri": "https://localhost:8080/"
        },
        "id": "23KRxvndpYt8",
        "outputId": "893e3d82-fff9-4009-805a-6b5a9bdf8c98"
      },
      "execution_count": 25,
      "outputs": [
        {
          "output_type": "stream",
          "name": "stdout",
          "text": [
            "IoU: 0.6857474888103923\n",
            "Dice: 0.8135826906013242\n",
            "Precision: 0.7753421449758027\n",
            "Recall: 0.8557910456333822\n",
            "Accuracy: 0.8991805094130676\n"
          ]
        }
      ]
    },
    {
      "cell_type": "markdown",
      "source": [
        "# For a whole dataset"
      ],
      "metadata": {
        "id": "ZRgrz9S3zYX-"
      }
    },
    {
      "cell_type": "code",
      "source": [
        "import numpy as np\n",
        "from tqdm import tqdm\n",
        "from ochumanApi.ochuman import OCHuman, Poly2Mask\n",
        "import glob\n",
        "import numpy as np\n",
        "import cv2, os\n",
        "from pathlib import Path\n",
        "import tensorflow as tf\n",
        "from tf_bodypix.api import download_model, load_model, BodyPixModelPaths\n",
        "\n",
        "# load model (once)\n",
        "bodypix_model = load_model(download_model(\n",
        "    # BodyPixModelPaths.MOBILENET_FLOAT_50_STRIDE_16\n",
        "    BodyPixModelPaths.RESNET50_FLOAT_STRIDE_16\n",
        "))\n",
        "\n",
        "def calculate_metrics(true_mask, pred_mask):\n",
        "    # Ensure both masks have the same 2D shape\n",
        "    true_mask = np.squeeze(true_mask)\n",
        "    pred_mask = np.squeeze(pred_mask)\n",
        "\n",
        "    TP = np.sum((pred_mask == 1) & (true_mask == 1))\n",
        "    FP = np.sum((pred_mask == 1) & (true_mask == 0))\n",
        "    TN = np.sum((pred_mask == 0) & (true_mask == 0))\n",
        "    FN = np.sum((pred_mask == 0) & (true_mask == 1))\n",
        "\n",
        "    iou = TP / (TP + FP + FN) if (TP + FP + FN) > 0 else 0\n",
        "    dice = (2 * TP) / (2 * TP + FP + FN) if (2 * TP + FP + FN) > 0 else 0\n",
        "    precision = TP / (TP + FP) if (TP + FP) > 0 else 0\n",
        "    recall = TP / (TP + FN) if (TP + FN) > 0 else 0\n",
        "    accuracy = (TP + TN) / (TP + FP + TN + FN) if (TP + FP + TN + FN) > 0 else 0\n",
        "\n",
        "    return iou, dice, precision, recall, accuracy\n",
        "\n",
        "def evaluate_dataset(anno_file, img_dir, bodypix_model):\n",
        "    # Initialize lists to hold metric values\n",
        "    ious, dices, precisions, recalls, accuracies = [], [], [], [], []\n",
        "\n",
        "    # Initialize OCHuman API\n",
        "    ochuman = OCHuman(AnnoFile=anno_file, Filter='kpt&segm')\n",
        "    # Get all image IDs\n",
        "    image_ids = ochuman.getImgIds()\n",
        "\n",
        "    # Loop over each image ID\n",
        "    for img_id in tqdm(image_ids, desc=\"Evaluating the images\"):\n",
        "        data = ochuman.loadImgs(imgIds=[img_id])[0]  # Load image data\n",
        "        img_path = os.path.join(img_dir, data['file_name'])  # Path to the image\n",
        "        img = cv2.imread(img_path)  # Read the image\n",
        "        height, width = data['height'], data['width']\n",
        "\n",
        "        true_mask = np.zeros((height, width), dtype=np.uint8)  # Initialize a mask with zeros\n",
        "\n",
        "        # Process each annotation in the image\n",
        "        for anno in data['annotations']:\n",
        "            segm = anno.get('segms')\n",
        "            if segm:\n",
        "                mask = Poly2Mask(segm)  # Convert segmentation polygon to mask\n",
        "                true_mask = np.bitwise_or(true_mask, mask)\n",
        "        ##OR {\n",
        "        # true_mask = Poly2Mask(data['annotations'][0].get('segms')) # get only the first mask\n",
        "        ##}\n",
        "\n",
        "        #predict the mask\n",
        "        result = bodypix_model.predict_single(img)\n",
        "        pred_mask = result.get_mask(threshold=0.75)\n",
        "\n",
        "        metrics = calculate_metrics(true_mask, pred_mask)\n",
        "        ious.append(metrics[0])\n",
        "        dices.append(metrics[1])\n",
        "        precisions.append(metrics[2])\n",
        "        recalls.append(metrics[3])\n",
        "        accuracies.append(metrics[4])\n",
        "\n",
        "    # Calculate mean metrics\n",
        "    mean_iou = np.mean(ious)\n",
        "    mean_dice = np.mean(dices)\n",
        "    mean_precision = np.mean(precisions)\n",
        "    mean_recall = np.mean(recalls)\n",
        "    mean_accuracy = np.mean(accuracies)\n",
        "\n",
        "    return mean_iou, mean_dice, mean_precision, mean_recall, mean_accuracy\n",
        "\n",
        "\n",
        "# Evaluate the dataset\n",
        "anno_file = '/content/drive/MyDrive/OCHumanData/OCHuman/ochuman.json'\n",
        "img_dir = '/content/drive/MyDrive/OCHumanData/OCHuman/images/images/'\n",
        "results = evaluate_dataset(anno_file, img_dir, bodypix_model)\n",
        "\n",
        "print(\"Mean IoU:\", results[0])\n",
        "print(\"Mean Dice:\", results[1])\n",
        "print(\"Mean Precision:\", results[2])\n",
        "print(\"Mean Recall:\", results[3])\n",
        "print(\"Mean Accuracy:\", results[4])"
      ],
      "metadata": {
        "id": "hqqfg_rwqLfE"
      },
      "execution_count": null,
      "outputs": []
    },
    {
      "cell_type": "markdown",
      "source": [
        "# Batch processing for CPU"
      ],
      "metadata": {
        "id": "9HSgfiMnguT_"
      }
    },
    {
      "cell_type": "code",
      "source": [
        "import numpy as np\n",
        "import cv2\n",
        "from tqdm import tqdm\n",
        "from ochumanApi.ochuman import OCHuman, Poly2Mask\n",
        "\n",
        "def calculate_metrics(true_mask, pred_mask):\n",
        "    # Ensure both masks have the same 2D shape\n",
        "    true_mask = np.squeeze(true_mask)\n",
        "    pred_mask = np.squeeze(pred_mask)\n",
        "\n",
        "    TP = np.sum((pred_mask == 1) & (true_mask == 1))\n",
        "    FP = np.sum((pred_mask == 1) & (true_mask == 0))\n",
        "    TN = np.sum((pred_mask == 0) & (true_mask == 0))\n",
        "    FN = np.sum((pred_mask == 0) & (true_mask == 1))\n",
        "\n",
        "    iou = TP / (TP + FP + FN) if (TP + FP + FN) > 0 else 0\n",
        "    dice = (2 * TP) / (2 * TP + FP + FN) if (2 * TP + FP + FN) > 0 else 0\n",
        "    precision = TP / (TP + FP) if (TP + FP) > 0 else 0\n",
        "    recall = TP / (TP + FN) if (TP + FN) > 0 else 0\n",
        "    accuracy = (TP + TN) / (TP + FP + TN + FN) if (TP + FP + TN + FN) > 0 else 0\n",
        "\n",
        "    return iou, dice, precision, recall, accuracy\n",
        "\n",
        "def evaluate_dataset_in_batches(anno_file, img_dir, bodypix_model, batch_size=100):\n",
        "    # Initialize OCHuman API\n",
        "    ochuman = OCHuman(AnnoFile=anno_file, Filter='kpt&segm')\n",
        "    # Get all image IDs\n",
        "    image_ids = ochuman.getImgIds()\n",
        "    total_batches = (len(image_ids) + batch_size - 1) // batch_size  # Calculate the total number of batches\n",
        "\n",
        "    # Process each batch\n",
        "    for batch_index in range(total_batches):\n",
        "        start_index = batch_index * batch_size\n",
        "        end_index = min((batch_index + 1) * batch_size, len(image_ids))\n",
        "        current_image_ids = image_ids[start_index:end_index]\n",
        "\n",
        "        # Metrics for current batch\n",
        "        ious, dices, precisions, recalls, accuracies = [], [], [], [], []\n",
        "\n",
        "        for img_id in tqdm(current_image_ids, desc=f\"Batch {batch_index + 1}/{total_batches}\"):\n",
        "            data = ochuman.loadImgs(imgIds=[img_id])[0]\n",
        "            img_path = os.path.join(img_dir, data['file_name'])\n",
        "            img = cv2.imread(img_path)\n",
        "\n",
        "            if img is None:\n",
        "                print(\"Failed to load image at:\", img_path)\n",
        "                continue\n",
        "\n",
        "            true_mask = Poly2Mask(data['annotations'][0].get('segms'))  # Only the first mask\n",
        "\n",
        "            result = bodypix_model.predict_single(img)\n",
        "            pred_mask = result.get_mask(threshold=0.75)\n",
        "\n",
        "            metrics = calculate_metrics(true_mask, pred_mask)\n",
        "            ious.append(metrics[0])\n",
        "            dices.append(metrics[1])\n",
        "            precisions.append(metrics[2])\n",
        "            recalls.append(metrics[3])\n",
        "            accuracies.append(metrics[4])\n",
        "\n",
        "        # Calculate mean metrics for the batch\n",
        "        mean_iou = np.mean(ious)\n",
        "        mean_dice = np.mean(dices)\n",
        "        mean_precision = np.mean(precisions)\n",
        "        mean_recall = np.mean(recalls)\n",
        "        mean_accuracy = np.mean(accuracies)\n",
        "\n",
        "        print(f\"Results for Batch {batch_index + 1}:\")\n",
        "        print(f\"  Mean IoU: {mean_iou}\")\n",
        "        print(f\"  Mean Dice: {mean_dice}\")\n",
        "        print(f\"  Mean Precision: {mean_precision}\")\n",
        "        print(f\"  Mean Recall: {mean_recall}\")\n",
        "        print(f\"  Mean Accuracy: {mean_accuracy}\")\n",
        "\n",
        "# Evaluate the dataset in batches\n",
        "anno_file = '/content/drive/MyDrive/OCHumanData/OCHuman/ochuman.json'\n",
        "img_dir = '/content/drive/MyDrive/OCHumanData/OCHuman/images/images/'\n",
        "evaluate_dataset_in_batches(anno_file, img_dir, bodypix_model, batch_size=100)"
      ],
      "metadata": {
        "colab": {
          "base_uri": "https://localhost:8080/"
        },
        "id": "AwtxlWy_gnTX",
        "outputId": "187e795a-7d21-4867-a62d-3bec12c79d27"
      },
      "execution_count": 30,
      "outputs": [
        {
          "output_type": "stream",
          "name": "stderr",
          "text": [
            "Batch 1/48: 100%|██████████| 100/100 [01:15<00:00,  1.32it/s]"
          ]
        },
        {
          "output_type": "stream",
          "name": "stdout",
          "text": [
            "Results for Batch 1:\n",
            "  Mean IoU: 0.4208946218492464\n",
            "  Mean Dice: 0.5739033855574697\n",
            "  Mean Precision: 0.47032030400136987\n",
            "  Mean Recall: 0.8012477061013574\n",
            "  Mean Accuracy: 0.8199856131389232\n"
          ]
        },
        {
          "output_type": "stream",
          "name": "stderr",
          "text": [
            "\n"
          ]
        }
      ]
    }
  ]
}